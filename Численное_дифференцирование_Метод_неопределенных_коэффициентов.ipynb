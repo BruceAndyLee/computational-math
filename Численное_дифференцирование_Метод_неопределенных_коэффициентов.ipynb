{
 "cells": [
  {
   "cell_type": "markdown",
   "metadata": {},
   "source": [
    "#### Контрольный вопрос: что такое порядок точности метода?\n",
    "Ваш ответ: это степень, в которую надо возвести величину разбиения сетки $h$, чтобы получить оценку сверху для погрешности метода (при условии, что нет ошибок округления).\n",
    "\n",
    "\n",
    "Например, если порядок точности метода $2 \\Rightarrow |f_{real}(x) - f_{method}(x, h)| < O(h^2)$"
   ]
  },
  {
   "cell_type": "markdown",
   "metadata": {},
   "source": [
    "#### Контрольный вопрос: какой порядок метода будет при численном дифференцировании по $N$ узлам и почему?\n",
    "\n",
    "Ваш ответ: (предполагаю, что речь идет о том, что мы хотим построить метод определения значения производной по нескольким заданным значениям функции, тогда) точность такого метода $n-1$\n",
    "\n",
    "Почему:\n",
    "\n",
    "TL;DR: потому что СЛАУ с единственным решением можно составить на $n$ переменных. Приращение функции расписывается через ряд Тейлора и делится на $h$, таким образом, старшая производная, участвующая в расчетах, будет порядка $n$, и домножена на $\\alpha_{n-1}h^{(n-1)}$ - то есть, точность метода $n-1$."
   ]
  },
  {
   "cell_type": "markdown",
   "metadata": {},
   "source": [
    "#### Контрольный вопрос: как называется матрица СЛАУ на коэффициенты метода неопределенных коэффицентов? Существует ли единственное решение системы и почему?\n",
    "\n",
    "Ваш ответ: Матрица Вандермонда.\n",
    "Единственное решение у СЛАУ существует в том случае, если расширенная матрица системы (включающая столбец свободных коэффициентов) имеет тот же ранг, что и сама матрица системы.\n",
    "\n",
    "Это условие выполняется в случае с МНК, потому что мы знаем это из других курсов..."
   ]
  },
  {
   "cell_type": "code",
   "execution_count": 65,
   "metadata": {
    "scrolled": true
   },
   "outputs": [
    {
     "name": "stdout",
     "output_type": "stream",
     "text": [
      "h =  0.13089969389957473\n",
      "diff =  0.49998238989252053\n"
     ]
    }
   ],
   "source": [
    "# скрипт, который реализует алгоритм метода неопределенных коэффициентов\n",
    "import numpy as np\n",
    "import numpy.linalg as la\n",
    "\n",
    "def get_diff(u, l, m, h):\n",
    "    n = u.size\n",
    "    v = np.linspace(-l,m, n)\n",
    "    # формируем матрицу системы в нужном виде\n",
    "    A = np.fliplr(np.vander(v, v.size)).T \n",
    "    b = np.zeros(n)\n",
    "    b[1] = 1\n",
    "    alpha = la.solve(A,b)\n",
    "    diff = 1/h*alpha.dot(u.T)\n",
    "    return diff\n",
    "\n",
    "p = 4 # порядок метода\n",
    "a = np.pi/3\n",
    "b = np.pi/2\n",
    "h = (b-a)/p\n",
    "print('h = ', h)\n",
    "x = np.linspace(a, b, p+1)\n",
    "u = np.sin(x) #ищем производную синуса\n",
    "\n",
    "diff = get_diff(u, 0, p, h)\n",
    "print('diff = ', diff)"
   ]
  },
  {
   "cell_type": "markdown",
   "metadata": {},
   "source": [
    "## Часть 1. Ошибка и обусловленность МНК"
   ]
  },
  {
   "cell_type": "markdown",
   "metadata": {
    "collapsed": true
   },
   "source": [
    "Задание:\n",
    "\n",
    "1. написать скрипт, который строит график зависимости абсолютной ошибки от числа узлов. Используйте логарифмический масштаб, разумное число узлов. Обратите внимание, что сначала ошибка убывает, затем растет. Объясните почему.\n",
    "2. Написать скрипт, который строит график зависимости числа обусловленности матрицы A системы с ростом ее размерности. Используйте логарифмический масштаб. Объясните поведение графика."
   ]
  },
  {
   "cell_type": "code",
   "execution_count": 66,
   "metadata": {},
   "outputs": [
    {
     "name": "stdout",
     "output_type": "stream",
     "text": [
      "2\n",
      "3\n",
      "4\n",
      "5\n",
      "6\n",
      "7\n",
      "8\n",
      "9\n",
      "10\n",
      "11\n",
      "12\n",
      "13\n",
      "14\n",
      "15\n",
      "16\n",
      "17\n",
      "18\n",
      "19\n",
      "[np.int64(2), np.int64(3), np.int64(4), np.int64(5), np.int64(6), np.int64(7), np.int64(8), np.int64(9), np.int64(10), np.int64(11), np.int64(12), np.int64(13), np.int64(14), np.int64(15), np.int64(16), np.int64(17), np.int64(18), np.int64(19)]\n",
      "[np.float64(0.25587263083736794), np.float64(0.5073103799745023), np.float64(0.5012597239249134), np.float64(0.49998238989251886), np.float64(0.4999979988361018), np.float64(0.5000000182797748), np.float64(0.5000000015876407), np.float64(0.5000000001402797), np.float64(0.4999999948951701), np.float64(0.5000002976316755), np.float64(0.49999401966048534), np.float64(0.4996917609533908), np.float64(0.4859692161444317), np.float64(0.4814452549578018), np.float64(-14.92398306232112), np.float64(0.49163888038445014), np.float64(0.36233377067277667), np.float64(0.4244233390872276)]\n"
     ]
    },
    {
     "data": {
      "image/png": "[encoded data removed]",
      "text/plain": [
       "<Figure size 640x480 with 1 Axes>"
      ]
     },
     "metadata": {},
     "output_type": "display_data"
    }
   ],
   "source": [
    "import matplotlib.pyplot as plt\n",
    "\n",
    "# порядок метода равен количеству узлов, поэтому будем использовать его как основной параметр в цикле\n",
    "orders = []\n",
    "errors = []\n",
    "for order in np.arange(2, 20):\n",
    "  h = (b-a)/order\n",
    "  x = np.linspace(a, b, int(order), h)\n",
    "  u = np.sin(x)\n",
    "  orders.append(order)\n",
    "  errors.append(get_diff(u, 0, order, h))\n",
    "\n",
    "plt.plot(orders, errors, color='green', marker='o')\n",
    "plt.yscale('log', base=2)\n",
    "plt.show()"
   ]
  },
  {
   "cell_type": "markdown",
   "metadata": {},
   "source": [
    "## Часть 2. Оценка порядка точности метода\n",
    "\n",
    "Рассмотрим метод с порядком точности $p$. Тогда ошибка метода $\\epsilon_h = Ch^p$, где $h$ - сеточный шаг. На сетке с двое меньшим шагом ошибка метода будет $\\epsilon_{h/2} = C_1 \\left(\\frac{h}{2}\\right)^p$. Если шаг h достаточно мелкий (ф-я меняется не очень сильно), то можно считать, что $C \\approx C_1$. Тогда, исключив $C$ из первого равенства за счет второго, можно получить, что\n",
    "$$\n",
    "p = \\log_2 \\frac{\\epsilon_h}{\\epsilon_{h/2}}\n",
    "$$"
   ]
  },
  {
   "cell_type": "markdown",
   "metadata": {
    "collapsed": true
   },
   "source": [
    "Задание:\n",
    "\n",
    "3. написать скрипт, который численно будет определять порядок точности методов направленная разность и центральная разность. Построить график зависимости p от шага сетки в широком диапазоне значений h. На графике для h использовать логарифмический масштаб. Объяснить поведение графиков. Исследуйте при это области как слева, так и справа от плато. Почему положения плато отличаются для двух методов и находятся именно на своих уровнях (обосновать аналитически)."
   ]
  },
  {
   "cell_type": "markdown",
   "metadata": {},
   "source": [
    "## Часть 3. Дифференцирование с использованием полиномиальной интерполяции\n",
    "\n",
    "Предложите вариант решения задачи численного дифференцирования на основании метода полиномиальной интерполяции по известным значениям функции. Реализуйте алгоритм, сравните его с МНК. Что общего у методов?"
   ]
  },
  {
   "cell_type": "code",
   "execution_count": null,
   "metadata": {
    "collapsed": true
   },
   "outputs": [],
   "source": []
  }
 ],
 "metadata": {
  "anaconda-cloud": {},
  "kernelspec": {
   "display_name": ".venv",
   "language": "python",
   "name": "python3"
  },
  "language_info": {
   "codemirror_mode": {
    "name": "ipython",
    "version": 3
   },
   "file_extension": ".py",
   "mimetype": "text/x-python",
   "name": "python",
   "nbconvert_exporter": "python",
   "pygments_lexer": "ipython3",
   "version": "3.9.6"
  }
 },
 "nbformat": 4,
 "nbformat_minor": 1
}
